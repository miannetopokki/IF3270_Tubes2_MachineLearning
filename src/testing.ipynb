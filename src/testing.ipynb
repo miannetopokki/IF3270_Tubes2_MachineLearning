{
 "cells": [
  {
   "cell_type": "markdown",
   "id": "faf8a04c",
   "metadata": {},
   "source": [
    "### Import Lib"
   ]
  },
  {
   "cell_type": "code",
   "execution_count": 1,
   "id": "98dae489",
   "metadata": {},
   "outputs": [],
   "source": [
    "import os\n",
    "import numpy as np\n",
    "import pandas as pd\n",
    "import keras\n",
    "import matplotlib.pyplot as plt\n",
    "from data_preprocessing import NusaXSentimentDataProcessor\n",
    "from LSTM.lstm import LSTMModel\n",
    "from RNN.rnn import RNNModel\n",
    "\n"
   ]
  },
  {
   "cell_type": "markdown",
   "id": "2f5be810",
   "metadata": {},
   "source": [
    "### Import Dataset"
   ]
  },
  {
   "cell_type": "code",
   "execution_count": 2,
   "id": "7f74c329",
   "metadata": {},
   "outputs": [
    {
     "name": "stdout",
     "output_type": "stream",
     "text": [
      "Preparing data...\n",
      "Unique labels found: {'positive', 'neutral', 'negative'}\n",
      "Train data: 500 samples\n",
      "Validation data: 100 samples\n",
      "Test data: 400 samples\n"
     ]
    }
   ],
   "source": [
    "data_dir = '../indonesian'\n",
    "data_processor = NusaXSentimentDataProcessor(data_dir,sequence_length = 50)# 50 timesteps\n",
    "print(\"Preparing data...\")\n",
    "(x_train, y_train), (x_val, y_val), (x_test, y_test) = data_processor.prepare_data()\n",
    "\n"
   ]
  },
  {
   "cell_type": "markdown",
   "id": "e6410355",
   "metadata": {},
   "source": [
    "### Making Keras Model Architecture "
   ]
  },
  {
   "cell_type": "code",
   "execution_count": 3,
   "id": "0215c2a7",
   "metadata": {},
   "outputs": [],
   "source": [
    "from tensorflow import keras\n",
    "\n",
    "def create_and_train_model(x_train, y_train, x_val, y_val, vocab_size, num_classes, model_type='lstm'):\n",
    "    embedding_dim = 1\n",
    "    hidden_units = 10\n",
    "\n",
    "    model = keras.Sequential()\n",
    "    model.add(keras.layers.Embedding(vocab_size, embedding_dim))\n",
    "\n",
    "    # Pilih jenis RNN\n",
    "    if model_type.lower() == 'lstm':\n",
    "        model.add(keras.layers.LSTM(hidden_units))\n",
    "    elif model_type.lower() == 'simplernn':\n",
    "        model.add(keras.layers.SimpleRNN(hidden_units))\n",
    "    else:\n",
    "        raise ValueError(\"model_type harus salah satu dari: 'lstm', 'simplernn', atau 'gru'\")\n",
    "\n",
    "    model.add(keras.layers.Dropout(0.2))\n",
    "    model.add(keras.layers.Dense(num_classes, activation='softmax'))\n",
    "\n",
    "    model.compile(\n",
    "        optimizer='adam',\n",
    "        loss='sparse_categorical_crossentropy',\n",
    "        metrics=['accuracy']\n",
    "    )\n",
    "\n",
    "    print(f\"\\nTraining {model_type.upper()} model with {num_classes} classes...\")\n",
    "    history = model.fit(\n",
    "        x_train, y_train,\n",
    "        validation_data=(x_val, y_val),\n",
    "        epochs=2,\n",
    "        batch_size=32\n",
    "    )\n",
    "\n",
    "    return model, history\n"
   ]
  },
  {
   "cell_type": "code",
   "execution_count": 4,
   "id": "739897af",
   "metadata": {},
   "outputs": [
    {
     "name": "stdout",
     "output_type": "stream",
     "text": [
      "Vocab Size: 2836 Num Classes 3\n",
      "2836\n"
     ]
    }
   ],
   "source": [
    "vocab_size = data_processor.get_vocabulary_size()\n",
    "num_classes = data_processor.get_num_classes()\n",
    "print(f\"Vocab Size: {vocab_size} Num Classes {num_classes}\")\n",
    "print(vocab_size)"
   ]
  },
  {
   "cell_type": "markdown",
   "id": "4b4933d8",
   "metadata": {},
   "source": [
    "#### LSTM"
   ]
  },
  {
   "cell_type": "code",
   "execution_count": 5,
   "id": "f9a725cd",
   "metadata": {},
   "outputs": [
    {
     "name": "stdout",
     "output_type": "stream",
     "text": [
      "\n",
      "Training LSTM model with 3 classes...\n",
      "Epoch 1/2\n",
      "\u001b[1m16/16\u001b[0m \u001b[32m━━━━━━━━━━━━━━━━━━━━\u001b[0m\u001b[37m\u001b[0m \u001b[1m3s\u001b[0m 34ms/step - accuracy: 0.3022 - loss: 1.0985 - val_accuracy: 0.4800 - val_loss: 1.0957\n",
      "Epoch 2/2\n",
      "\u001b[1m16/16\u001b[0m \u001b[32m━━━━━━━━━━━━━━━━━━━━\u001b[0m\u001b[37m\u001b[0m \u001b[1m0s\u001b[0m 14ms/step - accuracy: 0.3914 - loss: 1.0942 - val_accuracy: 0.3800 - val_loss: 1.0923\n"
     ]
    },
    {
     "data": {
      "text/html": [
       "<pre style=\"white-space:pre;overflow-x:auto;line-height:normal;font-family:Menlo,'DejaVu Sans Mono',consolas,'Courier New',monospace\"><span style=\"font-weight: bold\">Model: \"sequential\"</span>\n",
       "</pre>\n"
      ],
      "text/plain": [
       "\u001b[1mModel: \"sequential\"\u001b[0m\n"
      ]
     },
     "metadata": {},
     "output_type": "display_data"
    },
    {
     "data": {
      "text/html": [
       "<pre style=\"white-space:pre;overflow-x:auto;line-height:normal;font-family:Menlo,'DejaVu Sans Mono',consolas,'Courier New',monospace\">┏━━━━━━━━━━━━━━━━━━━━━━━━━━━━━━━━━┳━━━━━━━━━━━━━━━━━━━━━━━━┳━━━━━━━━━━━━━━━┓\n",
       "┃<span style=\"font-weight: bold\"> Layer (type)                    </span>┃<span style=\"font-weight: bold\"> Output Shape           </span>┃<span style=\"font-weight: bold\">       Param # </span>┃\n",
       "┡━━━━━━━━━━━━━━━━━━━━━━━━━━━━━━━━━╇━━━━━━━━━━━━━━━━━━━━━━━━╇━━━━━━━━━━━━━━━┩\n",
       "│ embedding (<span style=\"color: #0087ff; text-decoration-color: #0087ff\">Embedding</span>)           │ (<span style=\"color: #00d7ff; text-decoration-color: #00d7ff\">None</span>, <span style=\"color: #00af00; text-decoration-color: #00af00\">50</span>, <span style=\"color: #00af00; text-decoration-color: #00af00\">1</span>)          │         <span style=\"color: #00af00; text-decoration-color: #00af00\">2,836</span> │\n",
       "├─────────────────────────────────┼────────────────────────┼───────────────┤\n",
       "│ lstm (<span style=\"color: #0087ff; text-decoration-color: #0087ff\">LSTM</span>)                     │ (<span style=\"color: #00d7ff; text-decoration-color: #00d7ff\">None</span>, <span style=\"color: #00af00; text-decoration-color: #00af00\">10</span>)             │           <span style=\"color: #00af00; text-decoration-color: #00af00\">480</span> │\n",
       "├─────────────────────────────────┼────────────────────────┼───────────────┤\n",
       "│ dropout (<span style=\"color: #0087ff; text-decoration-color: #0087ff\">Dropout</span>)               │ (<span style=\"color: #00d7ff; text-decoration-color: #00d7ff\">None</span>, <span style=\"color: #00af00; text-decoration-color: #00af00\">10</span>)             │             <span style=\"color: #00af00; text-decoration-color: #00af00\">0</span> │\n",
       "├─────────────────────────────────┼────────────────────────┼───────────────┤\n",
       "│ dense (<span style=\"color: #0087ff; text-decoration-color: #0087ff\">Dense</span>)                   │ (<span style=\"color: #00d7ff; text-decoration-color: #00d7ff\">None</span>, <span style=\"color: #00af00; text-decoration-color: #00af00\">3</span>)              │            <span style=\"color: #00af00; text-decoration-color: #00af00\">33</span> │\n",
       "└─────────────────────────────────┴────────────────────────┴───────────────┘\n",
       "</pre>\n"
      ],
      "text/plain": [
       "┏━━━━━━━━━━━━━━━━━━━━━━━━━━━━━━━━━┳━━━━━━━━━━━━━━━━━━━━━━━━┳━━━━━━━━━━━━━━━┓\n",
       "┃\u001b[1m \u001b[0m\u001b[1mLayer (type)                   \u001b[0m\u001b[1m \u001b[0m┃\u001b[1m \u001b[0m\u001b[1mOutput Shape          \u001b[0m\u001b[1m \u001b[0m┃\u001b[1m \u001b[0m\u001b[1m      Param #\u001b[0m\u001b[1m \u001b[0m┃\n",
       "┡━━━━━━━━━━━━━━━━━━━━━━━━━━━━━━━━━╇━━━━━━━━━━━━━━━━━━━━━━━━╇━━━━━━━━━━━━━━━┩\n",
       "│ embedding (\u001b[38;5;33mEmbedding\u001b[0m)           │ (\u001b[38;5;45mNone\u001b[0m, \u001b[38;5;34m50\u001b[0m, \u001b[38;5;34m1\u001b[0m)          │         \u001b[38;5;34m2,836\u001b[0m │\n",
       "├─────────────────────────────────┼────────────────────────┼───────────────┤\n",
       "│ lstm (\u001b[38;5;33mLSTM\u001b[0m)                     │ (\u001b[38;5;45mNone\u001b[0m, \u001b[38;5;34m10\u001b[0m)             │           \u001b[38;5;34m480\u001b[0m │\n",
       "├─────────────────────────────────┼────────────────────────┼───────────────┤\n",
       "│ dropout (\u001b[38;5;33mDropout\u001b[0m)               │ (\u001b[38;5;45mNone\u001b[0m, \u001b[38;5;34m10\u001b[0m)             │             \u001b[38;5;34m0\u001b[0m │\n",
       "├─────────────────────────────────┼────────────────────────┼───────────────┤\n",
       "│ dense (\u001b[38;5;33mDense\u001b[0m)                   │ (\u001b[38;5;45mNone\u001b[0m, \u001b[38;5;34m3\u001b[0m)              │            \u001b[38;5;34m33\u001b[0m │\n",
       "└─────────────────────────────────┴────────────────────────┴───────────────┘\n"
      ]
     },
     "metadata": {},
     "output_type": "display_data"
    },
    {
     "data": {
      "text/html": [
       "<pre style=\"white-space:pre;overflow-x:auto;line-height:normal;font-family:Menlo,'DejaVu Sans Mono',consolas,'Courier New',monospace\"><span style=\"font-weight: bold\"> Total params: </span><span style=\"color: #00af00; text-decoration-color: #00af00\">10,049</span> (39.26 KB)\n",
       "</pre>\n"
      ],
      "text/plain": [
       "\u001b[1m Total params: \u001b[0m\u001b[38;5;34m10,049\u001b[0m (39.26 KB)\n"
      ]
     },
     "metadata": {},
     "output_type": "display_data"
    },
    {
     "data": {
      "text/html": [
       "<pre style=\"white-space:pre;overflow-x:auto;line-height:normal;font-family:Menlo,'DejaVu Sans Mono',consolas,'Courier New',monospace\"><span style=\"font-weight: bold\"> Trainable params: </span><span style=\"color: #00af00; text-decoration-color: #00af00\">3,349</span> (13.08 KB)\n",
       "</pre>\n"
      ],
      "text/plain": [
       "\u001b[1m Trainable params: \u001b[0m\u001b[38;5;34m3,349\u001b[0m (13.08 KB)\n"
      ]
     },
     "metadata": {},
     "output_type": "display_data"
    },
    {
     "data": {
      "text/html": [
       "<pre style=\"white-space:pre;overflow-x:auto;line-height:normal;font-family:Menlo,'DejaVu Sans Mono',consolas,'Courier New',monospace\"><span style=\"font-weight: bold\"> Non-trainable params: </span><span style=\"color: #00af00; text-decoration-color: #00af00\">0</span> (0.00 B)\n",
       "</pre>\n"
      ],
      "text/plain": [
       "\u001b[1m Non-trainable params: \u001b[0m\u001b[38;5;34m0\u001b[0m (0.00 B)\n"
      ]
     },
     "metadata": {},
     "output_type": "display_data"
    },
    {
     "data": {
      "text/html": [
       "<pre style=\"white-space:pre;overflow-x:auto;line-height:normal;font-family:Menlo,'DejaVu Sans Mono',consolas,'Courier New',monospace\"><span style=\"font-weight: bold\"> Optimizer params: </span><span style=\"color: #00af00; text-decoration-color: #00af00\">6,700</span> (26.18 KB)\n",
       "</pre>\n"
      ],
      "text/plain": [
       "\u001b[1m Optimizer params: \u001b[0m\u001b[38;5;34m6,700\u001b[0m (26.18 KB)\n"
      ]
     },
     "metadata": {},
     "output_type": "display_data"
    }
   ],
   "source": [
    "model_lstm,hist = create_and_train_model(x_train,y_train,x_val,y_val,vocab_size,num_classes,'lstm')\n",
    "model_lstm.summary()\n",
    "#rumus param lstm: (1+10+1)*4*4 = 480\n",
    "#rumus dense output: (10+1) * 3 = 33\n"
   ]
  },
  {
   "cell_type": "code",
   "execution_count": 6,
   "id": "247ed1da",
   "metadata": {},
   "outputs": [
    {
     "name": "stdout",
     "output_type": "stream",
     "text": [
      "\n",
      "Model Architecture Information:\n",
      "==============================\n",
      "\n",
      "Layer 0: Embedding\n",
      "------------------------\n",
      "E (Embedding Matrix):\n",
      "  Shape: (2836, 1)\n",
      "  - rows: vocabulary size (|V|)\n",
      "  - cols: embedding dimension (d)\n",
      "\n",
      "Config:\n",
      "{'name': 'embedding', 'trainable': True, 'dtype': {'module': 'keras', 'class_name': 'DTypePolicy', 'config': {'name': 'float32'}, 'registered_name': None}, 'input_dim': 2836, 'output_dim': 1, 'embeddings_initializer': {'module': 'keras.initializers', 'class_name': 'RandomUniform', 'config': {'seed': None, 'minval': -0.05, 'maxval': 0.05}, 'registered_name': None}, 'embeddings_regularizer': None, 'activity_regularizer': None, 'embeddings_constraint': None, 'mask_zero': False}\n",
      "\n",
      "Layer 1: LSTM\n",
      "------------------------\n",
      "Weight Matrices:\n",
      "W (Input Weight Matrix):\n",
      "  Shape: (1, 40)\n",
      "  - rows: input dimension (d)\n",
      "  - cols: 4*h where h is hidden size (for i,f,g,o gates)\n",
      "\n",
      "U (Recurrent Weight Matrix):\n",
      "  Shape: (10, 40)\n",
      "  - rows: hidden size (h)\n",
      "  - cols: 4*h (for i,f,g,o gates)\n",
      "\n",
      "b (Bias Vector):\n",
      "  Shape: (40,)\n",
      "  - size: 4*h (bias for i,f,g,o gates)\n",
      "\n",
      "LSTM Gates (each of size h=10):\n",
      "  i: Input gate      (0:10)\n",
      "  f: Forget gate     (10:20)\n",
      "  g: Cell gate       (20:30)\n",
      "  o: Output gate     (30:40)\n",
      "  c_t = f ⊙ c_{t-1} + i ⊙ g           # cell state\n",
      "  h_t = o ⊙ tanh(c_t)                  # hidden state\n",
      "\n",
      "Config:\n",
      "{'name': 'lstm', 'trainable': True, 'dtype': {'module': 'keras', 'class_name': 'DTypePolicy', 'config': {'name': 'float32'}, 'registered_name': None}, 'return_sequences': False, 'return_state': False, 'go_backwards': False, 'stateful': False, 'unroll': False, 'zero_output_for_mask': False, 'units': 10, 'activation': 'tanh', 'recurrent_activation': 'sigmoid', 'use_bias': True, 'kernel_initializer': {'module': 'keras.initializers', 'class_name': 'GlorotUniform', 'config': {'seed': None}, 'registered_name': None}, 'recurrent_initializer': {'module': 'keras.initializers', 'class_name': 'Orthogonal', 'config': {'seed': None, 'gain': 1.0}, 'registered_name': None}, 'bias_initializer': {'module': 'keras.initializers', 'class_name': 'Zeros', 'config': {}, 'registered_name': None}, 'unit_forget_bias': True, 'kernel_regularizer': None, 'recurrent_regularizer': None, 'bias_regularizer': None, 'activity_regularizer': None, 'kernel_constraint': None, 'recurrent_constraint': None, 'bias_constraint': None, 'dropout': 0.0, 'recurrent_dropout': 0.0, 'seed': None}\n",
      "\n",
      "Layer 2: Dropout\n",
      "------------------------\n",
      "No weights in this layer\n",
      "\n",
      "Config:\n",
      "{'name': 'dropout', 'trainable': True, 'dtype': {'module': 'keras', 'class_name': 'DTypePolicy', 'config': {'name': 'float32'}, 'registered_name': None}, 'rate': 0.2, 'seed': None, 'noise_shape': None}\n",
      "\n",
      "Layer 3: Dense\n",
      "------------------------\n",
      "W (Weight Matrix):\n",
      "  Shape: (10, 3)\n",
      "  - rows: input features\n",
      "  - cols: output classes\n",
      "\n",
      "b (Bias Vector):\n",
      "  Shape: (3,)\n",
      "\n",
      "Config:\n",
      "{'name': 'dense', 'trainable': True, 'dtype': {'module': 'keras', 'class_name': 'DTypePolicy', 'config': {'name': 'float32'}, 'registered_name': None}, 'units': 3, 'activation': 'softmax', 'use_bias': True, 'kernel_initializer': {'module': 'keras.initializers', 'class_name': 'GlorotUniform', 'config': {'seed': None}, 'registered_name': None}, 'bias_initializer': {'module': 'keras.initializers', 'class_name': 'Zeros', 'config': {}, 'registered_name': None}, 'kernel_regularizer': None, 'bias_regularizer': None, 'kernel_constraint': None, 'bias_constraint': None}\n",
      "\n",
      "Formulas:\n",
      "=========\n",
      "Embedding: x = E[input_indices]\n",
      "LSTM:\n",
      "  i = σ(W_i·x + U_i·h_{t-1} + b_i)    # input gate\n",
      "  f = σ(W_f·x + U_f·h_{t-1} + b_f)    # forget gate\n",
      "  g = tanh(W_g·x + U_g·h_{t-1} + b_g) # cell gate\n",
      "  o = σ(W_o·x + U_o·h_{t-1} + b_o)    # output gate\n",
      "  c_t = f ⊙ c_{t-1} + i ⊙ g           # cell state\n",
      "  h_t = o ⊙ tanh(c_t)                  # hidden state\n",
      "Dense: y = W·x + b\n"
     ]
    }
   ],
   "source": [
    "custom_model_lstm = LSTMModel(model_lstm) \n",
    "custom_model_lstm.print_info()"
   ]
  },
  {
   "cell_type": "code",
   "execution_count": 7,
   "id": "9804566b",
   "metadata": {},
   "outputs": [
    {
     "name": "stdout",
     "output_type": "stream",
     "text": [
      "\u001b[1m1/1\u001b[0m \u001b[32m━━━━━━━━━━━━━━━━━━━━\u001b[0m\u001b[37m\u001b[0m \u001b[1m0s\u001b[0m 257ms/step\n"
     ]
    }
   ],
   "source": [
    "y_keras = model_lstm.predict(x_test[0:1])"
   ]
  },
  {
   "cell_type": "code",
   "execution_count": 8,
   "id": "966cc6ce",
   "metadata": {},
   "outputs": [
    {
     "name": "stdout",
     "output_type": "stream",
     "text": [
      "total timestep: 50\n",
      "x_t di t-0  =  [[0.03093815]]\n",
      "x_t di t-1  =  [[-0.03148082]]\n",
      "x_t di t-2  =  [[0.02662777]]\n",
      "x_t di t-3  =  [[-0.02059043]]\n",
      "x_t di t-4  =  [[-0.02477199]]\n",
      "x_t di t-5  =  [[0.03858622]]\n",
      "x_t di t-6  =  [[0.02897973]]\n",
      "x_t di t-7  =  [[-0.02068324]]\n",
      "x_t di t-8  =  [[-0.00640893]]\n",
      "x_t di t-9  =  [[-0.06960691]]\n",
      "x_t di t-10  =  [[-0.04805113]]\n",
      "x_t di t-11  =  [[0.01642464]]\n",
      "x_t di t-12  =  [[-0.01961239]]\n",
      "x_t di t-13  =  [[-0.01761623]]\n",
      "x_t di t-14  =  [[-0.04129658]]\n",
      "x_t di t-15  =  [[0.02962817]]\n",
      "x_t di t-16  =  [[-0.02187863]]\n",
      "x_t di t-17  =  [[0.03592454]]\n",
      "x_t di t-18  =  [[-0.07429778]]\n",
      "x_t di t-19  =  [[-0.01257172]]\n",
      "x_t di t-20  =  [[-0.01139451]]\n",
      "x_t di t-21  =  [[-0.01139451]]\n",
      "x_t di t-22  =  [[-0.01139451]]\n",
      "x_t di t-23  =  [[-0.01139451]]\n",
      "x_t di t-24  =  [[-0.01139451]]\n",
      "x_t di t-25  =  [[-0.01139451]]\n",
      "x_t di t-26  =  [[-0.01139451]]\n",
      "x_t di t-27  =  [[-0.01139451]]\n",
      "x_t di t-28  =  [[-0.01139451]]\n",
      "x_t di t-29  =  [[-0.01139451]]\n",
      "x_t di t-30  =  [[-0.01139451]]\n",
      "x_t di t-31  =  [[-0.01139451]]\n",
      "x_t di t-32  =  [[-0.01139451]]\n",
      "x_t di t-33  =  [[-0.01139451]]\n",
      "x_t di t-34  =  [[-0.01139451]]\n",
      "x_t di t-35  =  [[-0.01139451]]\n",
      "x_t di t-36  =  [[-0.01139451]]\n",
      "x_t di t-37  =  [[-0.01139451]]\n",
      "x_t di t-38  =  [[-0.01139451]]\n",
      "x_t di t-39  =  [[-0.01139451]]\n",
      "x_t di t-40  =  [[-0.01139451]]\n",
      "x_t di t-41  =  [[-0.01139451]]\n",
      "x_t di t-42  =  [[-0.01139451]]\n",
      "x_t di t-43  =  [[-0.01139451]]\n",
      "x_t di t-44  =  [[-0.01139451]]\n",
      "x_t di t-45  =  [[-0.01139451]]\n",
      "x_t di t-46  =  [[-0.01139451]]\n",
      "x_t di t-47  =  [[-0.01139451]]\n",
      "x_t di t-48  =  [[-0.01139451]]\n",
      "x_t di t-49  =  [[-0.01139451]]\n"
     ]
    }
   ],
   "source": [
    "y_scratch = custom_model_lstm.forward(x_test[0:1])"
   ]
  },
  {
   "cell_type": "code",
   "execution_count": 9,
   "id": "5bd66dad",
   "metadata": {},
   "outputs": [
    {
     "name": "stdout",
     "output_type": "stream",
     "text": [
      "[[0.3360068  0.31692553 0.34706768]]\n",
      "[[0.3375466  0.31892905 0.34352437]]\n"
     ]
    }
   ],
   "source": [
    "print(y_keras)\n",
    "print(y_scratch)"
   ]
  },
  {
   "cell_type": "markdown",
   "id": "73942195",
   "metadata": {},
   "source": [
    "#### SimpleRNN"
   ]
  },
  {
   "cell_type": "code",
   "execution_count": 10,
   "id": "a1335e60",
   "metadata": {},
   "outputs": [
    {
     "name": "stdout",
     "output_type": "stream",
     "text": [
      "\n",
      "Training SIMPLERNN model with 3 classes..."
     ]
    },
    {
     "name": "stdout",
     "output_type": "stream",
     "text": [
      "\n",
      "Epoch 1/2\n",
      "\u001b[1m16/16\u001b[0m \u001b[32m━━━━━━━━━━━━━━━━━━━━\u001b[0m\u001b[37m\u001b[0m \u001b[1m2s\u001b[0m 25ms/step - accuracy: 0.3068 - loss: 1.1102 - val_accuracy: 0.3600 - val_loss: 1.0927\n",
      "Epoch 2/2\n",
      "\u001b[1m16/16\u001b[0m \u001b[32m━━━━━━━━━━━━━━━━━━━━\u001b[0m\u001b[37m\u001b[0m \u001b[1m0s\u001b[0m 9ms/step - accuracy: 0.4087 - loss: 1.0913 - val_accuracy: 0.4300 - val_loss: 1.0885\n"
     ]
    },
    {
     "data": {
      "text/html": [
       "<pre style=\"white-space:pre;overflow-x:auto;line-height:normal;font-family:Menlo,'DejaVu Sans Mono',consolas,'Courier New',monospace\"><span style=\"font-weight: bold\">Model: \"sequential_1\"</span>\n",
       "</pre>\n"
      ],
      "text/plain": [
       "\u001b[1mModel: \"sequential_1\"\u001b[0m\n"
      ]
     },
     "metadata": {},
     "output_type": "display_data"
    },
    {
     "data": {
      "text/html": [
       "<pre style=\"white-space:pre;overflow-x:auto;line-height:normal;font-family:Menlo,'DejaVu Sans Mono',consolas,'Courier New',monospace\">┏━━━━━━━━━━━━━━━━━━━━━━━━━━━━━━━━━┳━━━━━━━━━━━━━━━━━━━━━━━━┳━━━━━━━━━━━━━━━┓\n",
       "┃<span style=\"font-weight: bold\"> Layer (type)                    </span>┃<span style=\"font-weight: bold\"> Output Shape           </span>┃<span style=\"font-weight: bold\">       Param # </span>┃\n",
       "┡━━━━━━━━━━━━━━━━━━━━━━━━━━━━━━━━━╇━━━━━━━━━━━━━━━━━━━━━━━━╇━━━━━━━━━━━━━━━┩\n",
       "│ embedding_2 (<span style=\"color: #0087ff; text-decoration-color: #0087ff\">Embedding</span>)         │ (<span style=\"color: #00d7ff; text-decoration-color: #00d7ff\">None</span>, <span style=\"color: #00af00; text-decoration-color: #00af00\">50</span>, <span style=\"color: #00af00; text-decoration-color: #00af00\">1</span>)          │         <span style=\"color: #00af00; text-decoration-color: #00af00\">2,836</span> │\n",
       "├─────────────────────────────────┼────────────────────────┼───────────────┤\n",
       "│ simple_rnn (<span style=\"color: #0087ff; text-decoration-color: #0087ff\">SimpleRNN</span>)          │ (<span style=\"color: #00d7ff; text-decoration-color: #00d7ff\">None</span>, <span style=\"color: #00af00; text-decoration-color: #00af00\">10</span>)             │           <span style=\"color: #00af00; text-decoration-color: #00af00\">120</span> │\n",
       "├─────────────────────────────────┼────────────────────────┼───────────────┤\n",
       "│ dropout_2 (<span style=\"color: #0087ff; text-decoration-color: #0087ff\">Dropout</span>)             │ (<span style=\"color: #00d7ff; text-decoration-color: #00d7ff\">None</span>, <span style=\"color: #00af00; text-decoration-color: #00af00\">10</span>)             │             <span style=\"color: #00af00; text-decoration-color: #00af00\">0</span> │\n",
       "├─────────────────────────────────┼────────────────────────┼───────────────┤\n",
       "│ dense_2 (<span style=\"color: #0087ff; text-decoration-color: #0087ff\">Dense</span>)                 │ (<span style=\"color: #00d7ff; text-decoration-color: #00d7ff\">None</span>, <span style=\"color: #00af00; text-decoration-color: #00af00\">3</span>)              │            <span style=\"color: #00af00; text-decoration-color: #00af00\">33</span> │\n",
       "└─────────────────────────────────┴────────────────────────┴───────────────┘\n",
       "</pre>\n"
      ],
      "text/plain": [
       "┏━━━━━━━━━━━━━━━━━━━━━━━━━━━━━━━━━┳━━━━━━━━━━━━━━━━━━━━━━━━┳━━━━━━━━━━━━━━━┓\n",
       "┃\u001b[1m \u001b[0m\u001b[1mLayer (type)                   \u001b[0m\u001b[1m \u001b[0m┃\u001b[1m \u001b[0m\u001b[1mOutput Shape          \u001b[0m\u001b[1m \u001b[0m┃\u001b[1m \u001b[0m\u001b[1m      Param #\u001b[0m\u001b[1m \u001b[0m┃\n",
       "┡━━━━━━━━━━━━━━━━━━━━━━━━━━━━━━━━━╇━━━━━━━━━━━━━━━━━━━━━━━━╇━━━━━━━━━━━━━━━┩\n",
       "│ embedding_2 (\u001b[38;5;33mEmbedding\u001b[0m)         │ (\u001b[38;5;45mNone\u001b[0m, \u001b[38;5;34m50\u001b[0m, \u001b[38;5;34m1\u001b[0m)          │         \u001b[38;5;34m2,836\u001b[0m │\n",
       "├─────────────────────────────────┼────────────────────────┼───────────────┤\n",
       "│ simple_rnn (\u001b[38;5;33mSimpleRNN\u001b[0m)          │ (\u001b[38;5;45mNone\u001b[0m, \u001b[38;5;34m10\u001b[0m)             │           \u001b[38;5;34m120\u001b[0m │\n",
       "├─────────────────────────────────┼────────────────────────┼───────────────┤\n",
       "│ dropout_2 (\u001b[38;5;33mDropout\u001b[0m)             │ (\u001b[38;5;45mNone\u001b[0m, \u001b[38;5;34m10\u001b[0m)             │             \u001b[38;5;34m0\u001b[0m │\n",
       "├─────────────────────────────────┼────────────────────────┼───────────────┤\n",
       "│ dense_2 (\u001b[38;5;33mDense\u001b[0m)                 │ (\u001b[38;5;45mNone\u001b[0m, \u001b[38;5;34m3\u001b[0m)              │            \u001b[38;5;34m33\u001b[0m │\n",
       "└─────────────────────────────────┴────────────────────────┴───────────────┘\n"
      ]
     },
     "metadata": {},
     "output_type": "display_data"
    },
    {
     "data": {
      "text/html": [
       "<pre style=\"white-space:pre;overflow-x:auto;line-height:normal;font-family:Menlo,'DejaVu Sans Mono',consolas,'Courier New',monospace\"><span style=\"font-weight: bold\"> Total params: </span><span style=\"color: #00af00; text-decoration-color: #00af00\">8,969</span> (35.04 KB)\n",
       "</pre>\n"
      ],
      "text/plain": [
       "\u001b[1m Total params: \u001b[0m\u001b[38;5;34m8,969\u001b[0m (35.04 KB)\n"
      ]
     },
     "metadata": {},
     "output_type": "display_data"
    },
    {
     "data": {
      "text/html": [
       "<pre style=\"white-space:pre;overflow-x:auto;line-height:normal;font-family:Menlo,'DejaVu Sans Mono',consolas,'Courier New',monospace\"><span style=\"font-weight: bold\"> Trainable params: </span><span style=\"color: #00af00; text-decoration-color: #00af00\">2,989</span> (11.68 KB)\n",
       "</pre>\n"
      ],
      "text/plain": [
       "\u001b[1m Trainable params: \u001b[0m\u001b[38;5;34m2,989\u001b[0m (11.68 KB)\n"
      ]
     },
     "metadata": {},
     "output_type": "display_data"
    },
    {
     "data": {
      "text/html": [
       "<pre style=\"white-space:pre;overflow-x:auto;line-height:normal;font-family:Menlo,'DejaVu Sans Mono',consolas,'Courier New',monospace\"><span style=\"font-weight: bold\"> Non-trainable params: </span><span style=\"color: #00af00; text-decoration-color: #00af00\">0</span> (0.00 B)\n",
       "</pre>\n"
      ],
      "text/plain": [
       "\u001b[1m Non-trainable params: \u001b[0m\u001b[38;5;34m0\u001b[0m (0.00 B)\n"
      ]
     },
     "metadata": {},
     "output_type": "display_data"
    },
    {
     "data": {
      "text/html": [
       "<pre style=\"white-space:pre;overflow-x:auto;line-height:normal;font-family:Menlo,'DejaVu Sans Mono',consolas,'Courier New',monospace\"><span style=\"font-weight: bold\"> Optimizer params: </span><span style=\"color: #00af00; text-decoration-color: #00af00\">5,980</span> (23.36 KB)\n",
       "</pre>\n"
      ],
      "text/plain": [
       "\u001b[1m Optimizer params: \u001b[0m\u001b[38;5;34m5,980\u001b[0m (23.36 KB)\n"
      ]
     },
     "metadata": {},
     "output_type": "display_data"
    }
   ],
   "source": [
    "\n",
    "model_rnn,hist = create_and_train_model(x_train,y_train,x_val,y_val,vocab_size,num_classes,'simplernn')\n",
    "model_rnn.summary()\n"
   ]
  },
  {
   "cell_type": "code",
   "execution_count": 11,
   "id": "47695b54",
   "metadata": {},
   "outputs": [
    {
     "name": "stdout",
     "output_type": "stream",
     "text": [
      "\n",
      "Model Architecture Information:\n",
      "==============================\n",
      "\n",
      "Layer 0: Embedding\n",
      "------------------------\n",
      "E (Embedding Matrix):\n",
      "  Shape: (2836, 1)\n",
      "  - rows: vocabulary size (|V|)\n",
      "  - cols: embedding dimension (d)\n",
      "\n",
      "Config:\n",
      "{'name': 'embedding_2', 'trainable': True, 'dtype': {'module': 'keras', 'class_name': 'DTypePolicy', 'config': {'name': 'float32'}, 'registered_name': None}, 'input_dim': 2836, 'output_dim': 1, 'embeddings_initializer': {'module': 'keras.initializers', 'class_name': 'RandomUniform', 'config': {'seed': None, 'minval': -0.05, 'maxval': 0.05}, 'registered_name': None}, 'embeddings_regularizer': None, 'activity_regularizer': None, 'embeddings_constraint': None, 'mask_zero': False}\n",
      "\n",
      "Layer 1: SimpleRNN\n",
      "------------------------\n",
      "Weight Matrices:\n",
      "W (Input Weight Matrix):\n",
      "  Shape: (1, 10)\n",
      "  - rows: input dimension (d)\n",
      "  - cols: hidden size (h)\n",
      "\n",
      "U (Recurrent Weight Matrix):\n",
      "  Shape: (10, 10)\n",
      "  - rows: hidden size (h)\n",
      "  - cols: hidden size (h)\n",
      "\n",
      "b (Bias Vector):\n",
      "  Shape: (10,)\n",
      "  - size: hidden size (h)\n",
      "\n",
      "SimpleRNN Hidden Size: h=10\n",
      "\n",
      "Formula:\n",
      "  h_t = tanh(W·x + U·h_{t-1} + b)     # hidden state\n",
      "\n",
      "Config:\n",
      "{'name': 'simple_rnn', 'trainable': True, 'dtype': {'module': 'keras', 'class_name': 'DTypePolicy', 'config': {'name': 'float32'}, 'registered_name': None}, 'return_sequences': False, 'return_state': False, 'go_backwards': False, 'stateful': False, 'unroll': False, 'zero_output_for_mask': False, 'units': 10, 'activation': 'tanh', 'use_bias': True, 'kernel_initializer': {'module': 'keras.initializers', 'class_name': 'GlorotUniform', 'config': {'seed': None}, 'registered_name': None}, 'recurrent_initializer': {'module': 'keras.initializers', 'class_name': 'Orthogonal', 'config': {'seed': None, 'gain': 1.0}, 'registered_name': None}, 'bias_initializer': {'module': 'keras.initializers', 'class_name': 'Zeros', 'config': {}, 'registered_name': None}, 'kernel_regularizer': None, 'recurrent_regularizer': None, 'bias_regularizer': None, 'activity_regularizer': None, 'kernel_constraint': None, 'recurrent_constraint': None, 'bias_constraint': None, 'dropout': 0.0, 'recurrent_dropout': 0.0}\n",
      "\n",
      "Layer 2: Dropout\n",
      "------------------------\n",
      "No weights in this layer\n",
      "\n",
      "Config:\n",
      "{'name': 'dropout_2', 'trainable': True, 'dtype': {'module': 'keras', 'class_name': 'DTypePolicy', 'config': {'name': 'float32'}, 'registered_name': None}, 'rate': 0.2, 'seed': None, 'noise_shape': None}\n",
      "\n",
      "Layer 3: Dense\n",
      "------------------------\n",
      "W (Weight Matrix):\n",
      "  Shape: (10, 3)\n",
      "  - rows: input features\n",
      "  - cols: output classes\n",
      "\n",
      "b (Bias Vector):\n",
      "  Shape: (3,)\n",
      "\n",
      "Config:\n",
      "{'name': 'dense_2', 'trainable': True, 'dtype': {'module': 'keras', 'class_name': 'DTypePolicy', 'config': {'name': 'float32'}, 'registered_name': None}, 'units': 3, 'activation': 'softmax', 'use_bias': True, 'kernel_initializer': {'module': 'keras.initializers', 'class_name': 'GlorotUniform', 'config': {'seed': None}, 'registered_name': None}, 'bias_initializer': {'module': 'keras.initializers', 'class_name': 'Zeros', 'config': {}, 'registered_name': None}, 'kernel_regularizer': None, 'bias_regularizer': None, 'kernel_constraint': None, 'bias_constraint': None}\n",
      "\n",
      "Formulas:\n",
      "=========\n",
      "Embedding: x = E[input_indices]\n",
      "LSTM:\n",
      "  i = σ(W_i·x + U_i·h_{t-1} + b_i)    # input gate\n",
      "  f = σ(W_f·x + U_f·h_{t-1} + b_f)    # forget gate\n",
      "  g = tanh(W_g·x + U_g·h_{t-1} + b_g) # cell gate\n",
      "  o = σ(W_o·x + U_o·h_{t-1} + b_o)    # output gate\n",
      "  c_t = f ⊙ c_{t-1} + i ⊙ g           # cell state\n",
      "  h_t = o ⊙ tanh(c_t)                  # hidden state\n",
      "Dense: y = W·x + b\n"
     ]
    }
   ],
   "source": [
    "custom_model_rnn = RNNModel(model_rnn) \n",
    "custom_model_rnn.print_info()"
   ]
  },
  {
   "cell_type": "code",
   "execution_count": 12,
   "id": "17187861",
   "metadata": {},
   "outputs": [
    {
     "name": "stdout",
     "output_type": "stream",
     "text": [
      "\u001b[1m1/1\u001b[0m \u001b[32m━━━━━━━━━━━━━━━━━━━━\u001b[0m\u001b[37m\u001b[0m \u001b[1m0s\u001b[0m 136ms/step\n"
     ]
    }
   ],
   "source": [
    "y_keras = model_rnn.predict(x_test[0:1])"
   ]
  },
  {
   "cell_type": "code",
   "execution_count": 13,
   "id": "9b0fdde6",
   "metadata": {},
   "outputs": [],
   "source": [
    "#tinggal predict disini\n",
    "# y_scratch = custom_model_rnn.predict(x_test[0:1])"
   ]
  }
 ],
 "metadata": {
  "kernelspec": {
   "display_name": "venv",
   "language": "python",
   "name": "python3"
  },
  "language_info": {
   "codemirror_mode": {
    "name": "ipython",
    "version": 3
   },
   "file_extension": ".py",
   "mimetype": "text/x-python",
   "name": "python",
   "nbconvert_exporter": "python",
   "pygments_lexer": "ipython3",
   "version": "3.10.7"
  }
 },
 "nbformat": 4,
 "nbformat_minor": 5
}
